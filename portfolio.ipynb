{
 "cells": [
  {
   "cell_type": "markdown",
   "metadata": {},
   "source": [
    "# Ryan Davis's Data Science Portfolio\n",
    "\n",
    "\n",
    "\n",
    "## Pathology Image Classification With a Convolutional Neural Network\n",
    "This project uses a convolutional nerual network to identify  non-muscle invasie bladder cancer in H&E images of bladder tissue. Last updated Jan 2019.\n",
    "\n",
    "[Link to Convolutional Neural Network Application](https://github.com/ryanmdavis/classifyHistology/blob/master/jupyter/full_report.ipynb)\n",
    "\n",
    "## Who's Who in Biotech?\n",
    "Natural language processing application to identify prominent individuals and companies in the biopharmaceutical industry releated to a user's query. Last updated April 2018.\n",
    "\n",
    "[Link to Who's Who in Biotech?](https://whos-who-biotech.herokuapp.com/) **Important: The free version of Heroku requires 20-30s to start a new dyno, so please wait while the application loads**"
   ]
  },
  {
   "cell_type": "code",
   "execution_count": null,
   "metadata": {},
   "outputs": [],
   "source": []
  }
 ],
 "metadata": {
  "kernelspec": {
   "display_name": "Python 3",
   "language": "python",
   "name": "python3"
  },
  "language_info": {
   "codemirror_mode": {
    "name": "ipython",
    "version": 3
   },
   "file_extension": ".py",
   "mimetype": "text/x-python",
   "name": "python",
   "nbconvert_exporter": "python",
   "pygments_lexer": "ipython3",
   "version": "3.6.7"
  }
 },
 "nbformat": 4,
 "nbformat_minor": 2
}
