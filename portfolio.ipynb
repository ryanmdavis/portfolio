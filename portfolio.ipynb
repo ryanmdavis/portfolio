{
 "cells": [
  {
   "cell_type": "markdown",
   "metadata": {},
   "source": [
    "# Ryan Davis's Technical Portfolio\n",
    "\n",
    "\n",
    "\n",
    "## 1) Image Data Science: Pathology Image Classification With a Convolutional Neural Network\n",
    "This project uses a convolutional nerual network to identify  non-muscle invasie bladder cancer in H&E images of bladder tissue. Last updated Jan 2019.\n",
    "\n",
    "[Link to Convolutional Neural Network Application](https://github.com/ryanmdavis/classifyHistology/blob/master/jupyter/full_report.ipynb)\n",
    "\n",
    "## 2) Natural Language Processing Data Science: Who's Who in Biotech?\n",
    "Natural language processing application to identify prominent individuals and companies in the biopharmaceutical industry releated to a user's query. Last updated April 2018.\n",
    "\n",
    "[Link to Who's Who in Biotech?](https://whos-who-biotech.herokuapp.com/) **Important: The free version of Heroku requires 20-30s to start a new dyno, so please wait while the application loads**\n",
    "\n",
    "## 3) Peer Reviewed Research\n",
    "Twelve peer-reviewed publications on medical imaging of cancer spanning high-impact journals ranging from *Nature Physics*, *ACS Nano*, and *Free Radical Biology Medicine*. Eight first-author publications.\n",
    "[Link to ResearchGate](https://www.researchgate.net/profile/Ryan_Davis7/research)"
   ]
  },
  {
   "cell_type": "markdown",
   "metadata": {},
   "source": []
  }
 ],
 "metadata": {
  "kernelspec": {
   "display_name": "Python 3",
   "language": "python",
   "name": "python3"
  },
  "language_info": {
   "codemirror_mode": {
    "name": "ipython",
    "version": 3
   },
   "file_extension": ".py",
   "mimetype": "text/x-python",
   "name": "python",
   "nbconvert_exporter": "python",
   "pygments_lexer": "ipython3",
   "version": "3.6.7"
  }
 },
 "nbformat": 4,
 "nbformat_minor": 2
}
